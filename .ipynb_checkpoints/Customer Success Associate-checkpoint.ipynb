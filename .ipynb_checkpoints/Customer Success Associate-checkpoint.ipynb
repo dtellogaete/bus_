{
 "cells": [
  {
   "cell_type": "markdown",
   "metadata": {},
   "source": [
    "# Customer Success Associate"
   ]
  },
  {
   "cell_type": "code",
   "execution_count": 1,
   "metadata": {},
   "outputs": [],
   "source": [
    "import pandas as pd\n",
    "import numpy as np\n",
    "import matplotlib.pyplot as plt\n",
    "from sklearn import datasets, linear_model\n",
    "from sklearn.metrics import mean_squared_error, r2_score"
   ]
  },
  {
   "cell_type": "code",
   "execution_count": 74,
   "metadata": {},
   "outputs": [],
   "source": [
    "df = pd.read_csv(\"Examen/data.csv\", delimiter = \";\", decimal = \".\", encoding =\"utf-8\")\n",
    "df.columns= ['date', \"unity\", 'service', 'sence', 'period', 'sp','so','distance', 'icf']"
   ]
  },
  {
   "cell_type": "code",
   "execution_count": 75,
   "metadata": {
    "scrolled": true
   },
   "outputs": [
    {
     "data": {
      "text/plain": [
       "pandas.core.series.Series"
      ]
     },
     "execution_count": 75,
     "metadata": {},
     "output_type": "execute_result"
    }
   ],
   "source": [
    "df = df.astype({\"icf\": float})\n",
    "type(df.unity)"
   ]
  },
  {
   "cell_type": "markdown",
   "metadata": {},
   "source": [
    "## Análisis de relación entre ICF con la distancia de los recorridos por empresa"
   ]
  },
  {
   "cell_type": "code",
   "execution_count": 76,
   "metadata": {},
   "outputs": [],
   "source": [
    "df1 = df.loc[:, ['unity', 'distance', 'icf']]"
   ]
  },
  {
   "cell_type": "code",
   "execution_count": 77,
   "metadata": {},
   "outputs": [
    {
     "data": {
      "text/html": [
       "<div>\n",
       "<style scoped>\n",
       "    .dataframe tbody tr th:only-of-type {\n",
       "        vertical-align: middle;\n",
       "    }\n",
       "\n",
       "    .dataframe tbody tr th {\n",
       "        vertical-align: top;\n",
       "    }\n",
       "\n",
       "    .dataframe thead th {\n",
       "        text-align: right;\n",
       "    }\n",
       "</style>\n",
       "<table border=\"1\" class=\"dataframe\">\n",
       "  <thead>\n",
       "    <tr style=\"text-align: right;\">\n",
       "      <th></th>\n",
       "      <th>unity</th>\n",
       "      <th>distance</th>\n",
       "      <th>icf</th>\n",
       "    </tr>\n",
       "  </thead>\n",
       "  <tbody>\n",
       "    <tr>\n",
       "      <th>0</th>\n",
       "      <td>U2</td>\n",
       "      <td>32.12</td>\n",
       "      <td>1.00</td>\n",
       "    </tr>\n",
       "    <tr>\n",
       "      <th>1</th>\n",
       "      <td>U2</td>\n",
       "      <td>32.12</td>\n",
       "      <td>1.00</td>\n",
       "    </tr>\n",
       "    <tr>\n",
       "      <th>2</th>\n",
       "      <td>U2</td>\n",
       "      <td>32.12</td>\n",
       "      <td>1.00</td>\n",
       "    </tr>\n",
       "    <tr>\n",
       "      <th>3</th>\n",
       "      <td>U2</td>\n",
       "      <td>32.12</td>\n",
       "      <td>0.95</td>\n",
       "    </tr>\n",
       "    <tr>\n",
       "      <th>4</th>\n",
       "      <td>U2</td>\n",
       "      <td>32.12</td>\n",
       "      <td>1.00</td>\n",
       "    </tr>\n",
       "    <tr>\n",
       "      <th>5</th>\n",
       "      <td>U2</td>\n",
       "      <td>32.12</td>\n",
       "      <td>1.00</td>\n",
       "    </tr>\n",
       "    <tr>\n",
       "      <th>6</th>\n",
       "      <td>U2</td>\n",
       "      <td>32.12</td>\n",
       "      <td>1.00</td>\n",
       "    </tr>\n",
       "    <tr>\n",
       "      <th>7</th>\n",
       "      <td>U2</td>\n",
       "      <td>32.12</td>\n",
       "      <td>0.74</td>\n",
       "    </tr>\n",
       "  </tbody>\n",
       "</table>\n",
       "</div>"
      ],
      "text/plain": [
       "  unity  distance   icf\n",
       "0    U2     32.12  1.00\n",
       "1    U2     32.12  1.00\n",
       "2    U2     32.12  1.00\n",
       "3    U2     32.12  0.95\n",
       "4    U2     32.12  1.00\n",
       "5    U2     32.12  1.00\n",
       "6    U2     32.12  1.00\n",
       "7    U2     32.12  0.74"
      ]
     },
     "execution_count": 77,
     "metadata": {},
     "output_type": "execute_result"
    }
   ],
   "source": [
    "df1.head(8)"
   ]
  },
  {
   "cell_type": "code",
   "execution_count": 6,
   "metadata": {},
   "outputs": [
    {
     "data": {
      "text/html": [
       "<div>\n",
       "<style scoped>\n",
       "    .dataframe tbody tr th:only-of-type {\n",
       "        vertical-align: middle;\n",
       "    }\n",
       "\n",
       "    .dataframe tbody tr th {\n",
       "        vertical-align: top;\n",
       "    }\n",
       "\n",
       "    .dataframe thead tr th {\n",
       "        text-align: left;\n",
       "    }\n",
       "\n",
       "    .dataframe thead tr:last-of-type th {\n",
       "        text-align: right;\n",
       "    }\n",
       "</style>\n",
       "<table border=\"1\" class=\"dataframe\">\n",
       "  <thead>\n",
       "    <tr>\n",
       "      <th></th>\n",
       "      <th colspan=\"8\" halign=\"left\">distance</th>\n",
       "      <th colspan=\"8\" halign=\"left\">icf</th>\n",
       "    </tr>\n",
       "    <tr>\n",
       "      <th></th>\n",
       "      <th>count</th>\n",
       "      <th>mean</th>\n",
       "      <th>std</th>\n",
       "      <th>min</th>\n",
       "      <th>25%</th>\n",
       "      <th>50%</th>\n",
       "      <th>75%</th>\n",
       "      <th>max</th>\n",
       "      <th>count</th>\n",
       "      <th>mean</th>\n",
       "      <th>std</th>\n",
       "      <th>min</th>\n",
       "      <th>25%</th>\n",
       "      <th>50%</th>\n",
       "      <th>75%</th>\n",
       "      <th>max</th>\n",
       "    </tr>\n",
       "    <tr>\n",
       "      <th>unity</th>\n",
       "      <th></th>\n",
       "      <th></th>\n",
       "      <th></th>\n",
       "      <th></th>\n",
       "      <th></th>\n",
       "      <th></th>\n",
       "      <th></th>\n",
       "      <th></th>\n",
       "      <th></th>\n",
       "      <th></th>\n",
       "      <th></th>\n",
       "      <th></th>\n",
       "      <th></th>\n",
       "      <th></th>\n",
       "      <th></th>\n",
       "      <th></th>\n",
       "    </tr>\n",
       "  </thead>\n",
       "  <tbody>\n",
       "    <tr>\n",
       "      <th>U2</th>\n",
       "      <td>70202.0</td>\n",
       "      <td>20.819752</td>\n",
       "      <td>7.921329</td>\n",
       "      <td>0.0</td>\n",
       "      <td>14.16</td>\n",
       "      <td>20.72</td>\n",
       "      <td>27.71</td>\n",
       "      <td>37.33</td>\n",
       "      <td>70202.0</td>\n",
       "      <td>0.956555</td>\n",
       "      <td>0.087675</td>\n",
       "      <td>0.0</td>\n",
       "      <td>0.94</td>\n",
       "      <td>1.0</td>\n",
       "      <td>1.0</td>\n",
       "      <td>1.0</td>\n",
       "    </tr>\n",
       "    <tr>\n",
       "      <th>U3</th>\n",
       "      <td>119206.0</td>\n",
       "      <td>14.774757</td>\n",
       "      <td>6.745171</td>\n",
       "      <td>0.0</td>\n",
       "      <td>9.74</td>\n",
       "      <td>13.48</td>\n",
       "      <td>19.21</td>\n",
       "      <td>41.68</td>\n",
       "      <td>119206.0</td>\n",
       "      <td>0.981153</td>\n",
       "      <td>0.054326</td>\n",
       "      <td>0.0</td>\n",
       "      <td>1.00</td>\n",
       "      <td>1.0</td>\n",
       "      <td>1.0</td>\n",
       "      <td>1.0</td>\n",
       "    </tr>\n",
       "    <tr>\n",
       "      <th>U4</th>\n",
       "      <td>73737.0</td>\n",
       "      <td>23.032330</td>\n",
       "      <td>9.634775</td>\n",
       "      <td>0.0</td>\n",
       "      <td>15.00</td>\n",
       "      <td>21.49</td>\n",
       "      <td>33.58</td>\n",
       "      <td>38.86</td>\n",
       "      <td>73737.0</td>\n",
       "      <td>0.963948</td>\n",
       "      <td>0.092913</td>\n",
       "      <td>0.0</td>\n",
       "      <td>1.00</td>\n",
       "      <td>1.0</td>\n",
       "      <td>1.0</td>\n",
       "      <td>1.0</td>\n",
       "    </tr>\n",
       "    <tr>\n",
       "      <th>U5</th>\n",
       "      <td>66009.0</td>\n",
       "      <td>23.120578</td>\n",
       "      <td>10.450650</td>\n",
       "      <td>0.0</td>\n",
       "      <td>14.37</td>\n",
       "      <td>23.76</td>\n",
       "      <td>31.06</td>\n",
       "      <td>57.22</td>\n",
       "      <td>66009.0</td>\n",
       "      <td>0.992560</td>\n",
       "      <td>0.036843</td>\n",
       "      <td>0.0</td>\n",
       "      <td>1.00</td>\n",
       "      <td>1.0</td>\n",
       "      <td>1.0</td>\n",
       "      <td>1.0</td>\n",
       "    </tr>\n",
       "    <tr>\n",
       "      <th>U6</th>\n",
       "      <td>79625.0</td>\n",
       "      <td>13.279561</td>\n",
       "      <td>5.199412</td>\n",
       "      <td>0.0</td>\n",
       "      <td>9.00</td>\n",
       "      <td>12.51</td>\n",
       "      <td>16.30</td>\n",
       "      <td>31.26</td>\n",
       "      <td>79625.0</td>\n",
       "      <td>0.979488</td>\n",
       "      <td>0.057072</td>\n",
       "      <td>0.0</td>\n",
       "      <td>1.00</td>\n",
       "      <td>1.0</td>\n",
       "      <td>1.0</td>\n",
       "      <td>1.0</td>\n",
       "    </tr>\n",
       "    <tr>\n",
       "      <th>U7</th>\n",
       "      <td>46068.0</td>\n",
       "      <td>16.830905</td>\n",
       "      <td>8.504966</td>\n",
       "      <td>0.0</td>\n",
       "      <td>10.41</td>\n",
       "      <td>15.28</td>\n",
       "      <td>20.86</td>\n",
       "      <td>49.38</td>\n",
       "      <td>46068.0</td>\n",
       "      <td>0.994377</td>\n",
       "      <td>0.035263</td>\n",
       "      <td>0.0</td>\n",
       "      <td>1.00</td>\n",
       "      <td>1.0</td>\n",
       "      <td>1.0</td>\n",
       "      <td>1.0</td>\n",
       "    </tr>\n",
       "  </tbody>\n",
       "</table>\n",
       "</div>"
      ],
      "text/plain": [
       "       distance                                                         \\\n",
       "          count       mean        std  min    25%    50%    75%    max   \n",
       "unity                                                                    \n",
       "U2      70202.0  20.819752   7.921329  0.0  14.16  20.72  27.71  37.33   \n",
       "U3     119206.0  14.774757   6.745171  0.0   9.74  13.48  19.21  41.68   \n",
       "U4      73737.0  23.032330   9.634775  0.0  15.00  21.49  33.58  38.86   \n",
       "U5      66009.0  23.120578  10.450650  0.0  14.37  23.76  31.06  57.22   \n",
       "U6      79625.0  13.279561   5.199412  0.0   9.00  12.51  16.30  31.26   \n",
       "U7      46068.0  16.830905   8.504966  0.0  10.41  15.28  20.86  49.38   \n",
       "\n",
       "            icf                                                \n",
       "          count      mean       std  min   25%  50%  75%  max  \n",
       "unity                                                          \n",
       "U2      70202.0  0.956555  0.087675  0.0  0.94  1.0  1.0  1.0  \n",
       "U3     119206.0  0.981153  0.054326  0.0  1.00  1.0  1.0  1.0  \n",
       "U4      73737.0  0.963948  0.092913  0.0  1.00  1.0  1.0  1.0  \n",
       "U5      66009.0  0.992560  0.036843  0.0  1.00  1.0  1.0  1.0  \n",
       "U6      79625.0  0.979488  0.057072  0.0  1.00  1.0  1.0  1.0  \n",
       "U7      46068.0  0.994377  0.035263  0.0  1.00  1.0  1.0  1.0  "
      ]
     },
     "execution_count": 6,
     "metadata": {},
     "output_type": "execute_result"
    }
   ],
   "source": [
    "df1.groupby(\"unity\").describe()"
   ]
  },
  {
   "cell_type": "markdown",
   "metadata": {},
   "source": [
    "### U2 SUBUS"
   ]
  },
  {
   "cell_type": "code",
   "execution_count": 7,
   "metadata": {},
   "outputs": [
    {
     "data": {
      "text/html": [
       "<div>\n",
       "<style scoped>\n",
       "    .dataframe tbody tr th:only-of-type {\n",
       "        vertical-align: middle;\n",
       "    }\n",
       "\n",
       "    .dataframe tbody tr th {\n",
       "        vertical-align: top;\n",
       "    }\n",
       "\n",
       "    .dataframe thead th {\n",
       "        text-align: right;\n",
       "    }\n",
       "</style>\n",
       "<table border=\"1\" class=\"dataframe\">\n",
       "  <thead>\n",
       "    <tr style=\"text-align: right;\">\n",
       "      <th></th>\n",
       "      <th>date</th>\n",
       "      <th>unity</th>\n",
       "      <th>service</th>\n",
       "      <th>sence</th>\n",
       "      <th>period</th>\n",
       "      <th>sp</th>\n",
       "      <th>so</th>\n",
       "      <th>distance</th>\n",
       "      <th>icf</th>\n",
       "    </tr>\n",
       "  </thead>\n",
       "  <tbody>\n",
       "    <tr>\n",
       "      <th>0</th>\n",
       "      <td>01-08-2019</td>\n",
       "      <td>U2</td>\n",
       "      <td>201</td>\n",
       "      <td>IDA</td>\n",
       "      <td>001 - Pre Nocturno Madrugada</td>\n",
       "      <td>3</td>\n",
       "      <td>3</td>\n",
       "      <td>32.12</td>\n",
       "      <td>1.00</td>\n",
       "    </tr>\n",
       "    <tr>\n",
       "      <th>1</th>\n",
       "      <td>01-08-2019</td>\n",
       "      <td>U2</td>\n",
       "      <td>201</td>\n",
       "      <td>IDA</td>\n",
       "      <td>002 - Nocturno</td>\n",
       "      <td>11</td>\n",
       "      <td>11</td>\n",
       "      <td>32.12</td>\n",
       "      <td>1.00</td>\n",
       "    </tr>\n",
       "    <tr>\n",
       "      <th>2</th>\n",
       "      <td>01-08-2019</td>\n",
       "      <td>U2</td>\n",
       "      <td>201</td>\n",
       "      <td>IDA</td>\n",
       "      <td>003 - Transición Nocturno</td>\n",
       "      <td>10</td>\n",
       "      <td>11</td>\n",
       "      <td>32.12</td>\n",
       "      <td>1.00</td>\n",
       "    </tr>\n",
       "    <tr>\n",
       "      <th>3</th>\n",
       "      <td>01-08-2019</td>\n",
       "      <td>U2</td>\n",
       "      <td>201</td>\n",
       "      <td>IDA</td>\n",
       "      <td>004 - Punta Mañana</td>\n",
       "      <td>20</td>\n",
       "      <td>19</td>\n",
       "      <td>32.12</td>\n",
       "      <td>0.95</td>\n",
       "    </tr>\n",
       "    <tr>\n",
       "      <th>4</th>\n",
       "      <td>01-08-2019</td>\n",
       "      <td>U2</td>\n",
       "      <td>201</td>\n",
       "      <td>IDA</td>\n",
       "      <td>005 - Transición Punta mañana</td>\n",
       "      <td>8</td>\n",
       "      <td>8</td>\n",
       "      <td>32.12</td>\n",
       "      <td>1.00</td>\n",
       "    </tr>\n",
       "    <tr>\n",
       "      <th>5</th>\n",
       "      <td>01-08-2019</td>\n",
       "      <td>U2</td>\n",
       "      <td>201</td>\n",
       "      <td>IDA</td>\n",
       "      <td>006 - Fuera Punta Mañana</td>\n",
       "      <td>24</td>\n",
       "      <td>24</td>\n",
       "      <td>32.12</td>\n",
       "      <td>1.00</td>\n",
       "    </tr>\n",
       "    <tr>\n",
       "      <th>6</th>\n",
       "      <td>01-08-2019</td>\n",
       "      <td>U2</td>\n",
       "      <td>201</td>\n",
       "      <td>IDA</td>\n",
       "      <td>008 - Fuera de Punta Tarde</td>\n",
       "      <td>28</td>\n",
       "      <td>28</td>\n",
       "      <td>32.12</td>\n",
       "      <td>1.00</td>\n",
       "    </tr>\n",
       "    <tr>\n",
       "      <th>7</th>\n",
       "      <td>01-08-2019</td>\n",
       "      <td>U2</td>\n",
       "      <td>201</td>\n",
       "      <td>IDA</td>\n",
       "      <td>009 - Punta Tarde</td>\n",
       "      <td>27</td>\n",
       "      <td>20</td>\n",
       "      <td>32.12</td>\n",
       "      <td>0.74</td>\n",
       "    </tr>\n",
       "  </tbody>\n",
       "</table>\n",
       "</div>"
      ],
      "text/plain": [
       "         date unity service sence                         period  sp  so  \\\n",
       "0  01-08-2019    U2     201   IDA   001 - Pre Nocturno Madrugada   3   3   \n",
       "1  01-08-2019    U2     201   IDA                 002 - Nocturno  11  11   \n",
       "2  01-08-2019    U2     201   IDA      003 - Transición Nocturno  10  11   \n",
       "3  01-08-2019    U2     201   IDA             004 - Punta Mañana  20  19   \n",
       "4  01-08-2019    U2     201   IDA  005 - Transición Punta mañana   8   8   \n",
       "5  01-08-2019    U2     201   IDA       006 - Fuera Punta Mañana  24  24   \n",
       "6  01-08-2019    U2     201   IDA     008 - Fuera de Punta Tarde  28  28   \n",
       "7  01-08-2019    U2     201   IDA              009 - Punta Tarde  27  20   \n",
       "\n",
       "   distance   icf  \n",
       "0     32.12  1.00  \n",
       "1     32.12  1.00  \n",
       "2     32.12  1.00  \n",
       "3     32.12  0.95  \n",
       "4     32.12  1.00  \n",
       "5     32.12  1.00  \n",
       "6     32.12  1.00  \n",
       "7     32.12  0.74  "
      ]
     },
     "execution_count": 7,
     "metadata": {},
     "output_type": "execute_result"
    }
   ],
   "source": [
    "is_U2 = df.loc[:, 'unity'] == 'U2'\n",
    "df_U2 = df.loc[is_U2]\n",
    "df_U2.head(8)"
   ]
  },
  {
   "cell_type": "code",
   "execution_count": 8,
   "metadata": {},
   "outputs": [],
   "source": [
    "x1 = df_U2['distance'].values.reshape(-1,1)\n",
    "y1 = df_U2['icf'].values.reshape(-1,1)"
   ]
  },
  {
   "cell_type": "code",
   "execution_count": 9,
   "metadata": {},
   "outputs": [],
   "source": [
    "mod_U2 = linear_model.LinearRegression()"
   ]
  },
  {
   "cell_type": "code",
   "execution_count": 10,
   "metadata": {},
   "outputs": [
    {
     "data": {
      "text/plain": [
       "LinearRegression(copy_X=True, fit_intercept=True, n_jobs=None, normalize=False)"
      ]
     },
     "execution_count": 10,
     "metadata": {},
     "output_type": "execute_result"
    }
   ],
   "source": [
    "mod_U2.fit(x1,y1)"
   ]
  },
  {
   "cell_type": "code",
   "execution_count": 11,
   "metadata": {},
   "outputs": [
    {
     "data": {
      "image/png": "[encoded data removed]",
      "text/plain": [
       "<Figure size 432x288 with 1 Axes>"
      ]
     },
     "metadata": {
      "needs_background": "light"
     },
     "output_type": "display_data"
    }
   ],
   "source": [
    "plt.scatter(x1,y1, color= 'black')\n",
    "plt.plot(x1, mod_U2.predict(x1), color = 'blue', linewidth=3)\n",
    "plt.show()"
   ]
  },
  {
   "cell_type": "code",
   "execution_count": 12,
   "metadata": {},
   "outputs": [
    {
     "data": {
      "text/plain": [
       "0.013617712892726841"
      ]
     },
     "execution_count": 12,
     "metadata": {},
     "output_type": "execute_result"
    }
   ],
   "source": [
    "r2_U2 = r2_score(y1, mod_U2.predict(x1))\n",
    "r2_U2"
   ]
  },
  {
   "cell_type": "markdown",
   "metadata": {},
   "source": [
    "### U3 Vule"
   ]
  },
  {
   "cell_type": "code",
   "execution_count": 13,
   "metadata": {},
   "outputs": [
    {
     "data": {
      "text/html": [
       "<div>\n",
       "<style scoped>\n",
       "    .dataframe tbody tr th:only-of-type {\n",
       "        vertical-align: middle;\n",
       "    }\n",
       "\n",
       "    .dataframe tbody tr th {\n",
       "        vertical-align: top;\n",
       "    }\n",
       "\n",
       "    .dataframe thead th {\n",
       "        text-align: right;\n",
       "    }\n",
       "</style>\n",
       "<table border=\"1\" class=\"dataframe\">\n",
       "  <thead>\n",
       "    <tr style=\"text-align: right;\">\n",
       "      <th></th>\n",
       "      <th>date</th>\n",
       "      <th>unity</th>\n",
       "      <th>service</th>\n",
       "      <th>sence</th>\n",
       "      <th>period</th>\n",
       "      <th>sp</th>\n",
       "      <th>so</th>\n",
       "      <th>distance</th>\n",
       "      <th>icf</th>\n",
       "    </tr>\n",
       "  </thead>\n",
       "  <tbody>\n",
       "    <tr>\n",
       "      <th>70202</th>\n",
       "      <td>01-08-2019</td>\n",
       "      <td>U3</td>\n",
       "      <td>301</td>\n",
       "      <td>IDA</td>\n",
       "      <td>001 - Pre Nocturno Madrugada</td>\n",
       "      <td>4</td>\n",
       "      <td>4</td>\n",
       "      <td>26.23</td>\n",
       "      <td>1.00</td>\n",
       "    </tr>\n",
       "    <tr>\n",
       "      <th>70203</th>\n",
       "      <td>01-08-2019</td>\n",
       "      <td>U3</td>\n",
       "      <td>301</td>\n",
       "      <td>IDA</td>\n",
       "      <td>002 - Nocturno</td>\n",
       "      <td>12</td>\n",
       "      <td>12</td>\n",
       "      <td>26.23</td>\n",
       "      <td>1.00</td>\n",
       "    </tr>\n",
       "    <tr>\n",
       "      <th>70204</th>\n",
       "      <td>01-08-2019</td>\n",
       "      <td>U3</td>\n",
       "      <td>301</td>\n",
       "      <td>IDA</td>\n",
       "      <td>003 - Transición Nocturno</td>\n",
       "      <td>9</td>\n",
       "      <td>9</td>\n",
       "      <td>26.23</td>\n",
       "      <td>1.00</td>\n",
       "    </tr>\n",
       "    <tr>\n",
       "      <th>70205</th>\n",
       "      <td>01-08-2019</td>\n",
       "      <td>U3</td>\n",
       "      <td>301</td>\n",
       "      <td>IDA</td>\n",
       "      <td>004 - Punta Mañana</td>\n",
       "      <td>48</td>\n",
       "      <td>42</td>\n",
       "      <td>26.23</td>\n",
       "      <td>0.88</td>\n",
       "    </tr>\n",
       "    <tr>\n",
       "      <th>70206</th>\n",
       "      <td>01-08-2019</td>\n",
       "      <td>U3</td>\n",
       "      <td>301</td>\n",
       "      <td>IDA</td>\n",
       "      <td>005 - Transición Punta mañana</td>\n",
       "      <td>21</td>\n",
       "      <td>18</td>\n",
       "      <td>26.23</td>\n",
       "      <td>0.86</td>\n",
       "    </tr>\n",
       "    <tr>\n",
       "      <th>70207</th>\n",
       "      <td>01-08-2019</td>\n",
       "      <td>U3</td>\n",
       "      <td>301</td>\n",
       "      <td>IDA</td>\n",
       "      <td>006 - Fuera Punta Mañana</td>\n",
       "      <td>53</td>\n",
       "      <td>55</td>\n",
       "      <td>26.23</td>\n",
       "      <td>1.00</td>\n",
       "    </tr>\n",
       "    <tr>\n",
       "      <th>70208</th>\n",
       "      <td>01-08-2019</td>\n",
       "      <td>U3</td>\n",
       "      <td>301</td>\n",
       "      <td>IDA</td>\n",
       "      <td>008 - Fuera de Punta Tarde</td>\n",
       "      <td>62</td>\n",
       "      <td>57</td>\n",
       "      <td>26.23</td>\n",
       "      <td>0.92</td>\n",
       "    </tr>\n",
       "    <tr>\n",
       "      <th>70209</th>\n",
       "      <td>01-08-2019</td>\n",
       "      <td>U3</td>\n",
       "      <td>301</td>\n",
       "      <td>IDA</td>\n",
       "      <td>009 - Punta Tarde</td>\n",
       "      <td>63</td>\n",
       "      <td>51</td>\n",
       "      <td>26.23</td>\n",
       "      <td>0.81</td>\n",
       "    </tr>\n",
       "  </tbody>\n",
       "</table>\n",
       "</div>"
      ],
      "text/plain": [
       "             date unity service sence                         period  sp  so  \\\n",
       "70202  01-08-2019    U3     301   IDA   001 - Pre Nocturno Madrugada   4   4   \n",
       "70203  01-08-2019    U3     301   IDA                 002 - Nocturno  12  12   \n",
       "70204  01-08-2019    U3     301   IDA      003 - Transición Nocturno   9   9   \n",
       "70205  01-08-2019    U3     301   IDA             004 - Punta Mañana  48  42   \n",
       "70206  01-08-2019    U3     301   IDA  005 - Transición Punta mañana  21  18   \n",
       "70207  01-08-2019    U3     301   IDA       006 - Fuera Punta Mañana  53  55   \n",
       "70208  01-08-2019    U3     301   IDA     008 - Fuera de Punta Tarde  62  57   \n",
       "70209  01-08-2019    U3     301   IDA              009 - Punta Tarde  63  51   \n",
       "\n",
       "       distance   icf  \n",
       "70202     26.23  1.00  \n",
       "70203     26.23  1.00  \n",
       "70204     26.23  1.00  \n",
       "70205     26.23  0.88  \n",
       "70206     26.23  0.86  \n",
       "70207     26.23  1.00  \n",
       "70208     26.23  0.92  \n",
       "70209     26.23  0.81  "
      ]
     },
     "execution_count": 13,
     "metadata": {},
     "output_type": "execute_result"
    }
   ],
   "source": [
    "is_U3 = df.loc[:, 'unity'] == 'U3'\n",
    "df_U3 = df.loc[is_U3]\n",
    "df_U3.head(8)"
   ]
  },
  {
   "cell_type": "code",
   "execution_count": 14,
   "metadata": {},
   "outputs": [],
   "source": [
    "x2 = df_U3['distance'].values.reshape(-1,1)\n",
    "y2 = df_U3['icf'].values.reshape(-1,1)"
   ]
  },
  {
   "cell_type": "code",
   "execution_count": 15,
   "metadata": {},
   "outputs": [],
   "source": [
    "mod_U3 = linear_model.LinearRegression()"
   ]
  },
  {
   "cell_type": "code",
   "execution_count": 16,
   "metadata": {},
   "outputs": [
    {
     "data": {
      "text/plain": [
       "LinearRegression(copy_X=True, fit_intercept=True, n_jobs=None, normalize=False)"
      ]
     },
     "execution_count": 16,
     "metadata": {},
     "output_type": "execute_result"
    }
   ],
   "source": [
    "mod_U3.fit(x2,y2)"
   ]
  },
  {
   "cell_type": "code",
   "execution_count": 17,
   "metadata": {},
   "outputs": [
    {
     "data": {
      "image/png": "[encoded data removed]",
      "text/plain": [
       "<Figure size 432x288 with 1 Axes>"
      ]
     },
     "metadata": {
      "needs_background": "light"
     },
     "output_type": "display_data"
    }
   ],
   "source": [
    "plt.scatter(x2,y2, color= 'black')\n",
    "plt.plot(x2, mod_U3.predict(x2), color = 'blue', linewidth=3)\n",
    "plt.show()"
   ]
  },
  {
   "cell_type": "code",
   "execution_count": 18,
   "metadata": {},
   "outputs": [
    {
     "data": {
      "text/plain": [
       "0.0032713699191514456"
      ]
     },
     "execution_count": 18,
     "metadata": {},
     "output_type": "execute_result"
    }
   ],
   "source": [
    "r2_U3 = r2_score(y2, mod_U3.predict(x2))\n",
    "r2_U3"
   ]
  },
  {
   "cell_type": "markdown",
   "metadata": {},
   "source": [
    "### U4 Express"
   ]
  },
  {
   "cell_type": "code",
   "execution_count": 19,
   "metadata": {},
   "outputs": [
    {
     "data": {
      "text/html": [
       "<div>\n",
       "<style scoped>\n",
       "    .dataframe tbody tr th:only-of-type {\n",
       "        vertical-align: middle;\n",
       "    }\n",
       "\n",
       "    .dataframe tbody tr th {\n",
       "        vertical-align: top;\n",
       "    }\n",
       "\n",
       "    .dataframe thead th {\n",
       "        text-align: right;\n",
       "    }\n",
       "</style>\n",
       "<table border=\"1\" class=\"dataframe\">\n",
       "  <thead>\n",
       "    <tr style=\"text-align: right;\">\n",
       "      <th></th>\n",
       "      <th>date</th>\n",
       "      <th>unity</th>\n",
       "      <th>service</th>\n",
       "      <th>sence</th>\n",
       "      <th>period</th>\n",
       "      <th>sp</th>\n",
       "      <th>so</th>\n",
       "      <th>distance</th>\n",
       "      <th>icf</th>\n",
       "    </tr>\n",
       "  </thead>\n",
       "  <tbody>\n",
       "    <tr>\n",
       "      <th>189408</th>\n",
       "      <td>01-08-2019</td>\n",
       "      <td>U4</td>\n",
       "      <td>401</td>\n",
       "      <td>IDA</td>\n",
       "      <td>001 - Pre Nocturno Madrugada</td>\n",
       "      <td>2</td>\n",
       "      <td>3</td>\n",
       "      <td>37.51</td>\n",
       "      <td>1.00</td>\n",
       "    </tr>\n",
       "    <tr>\n",
       "      <th>189409</th>\n",
       "      <td>01-08-2019</td>\n",
       "      <td>U4</td>\n",
       "      <td>401</td>\n",
       "      <td>IDA</td>\n",
       "      <td>002 - Nocturno</td>\n",
       "      <td>11</td>\n",
       "      <td>12</td>\n",
       "      <td>37.51</td>\n",
       "      <td>1.00</td>\n",
       "    </tr>\n",
       "    <tr>\n",
       "      <th>189410</th>\n",
       "      <td>01-08-2019</td>\n",
       "      <td>U4</td>\n",
       "      <td>401</td>\n",
       "      <td>IDA</td>\n",
       "      <td>003 - Transición Nocturno</td>\n",
       "      <td>9</td>\n",
       "      <td>10</td>\n",
       "      <td>37.51</td>\n",
       "      <td>1.00</td>\n",
       "    </tr>\n",
       "    <tr>\n",
       "      <th>189411</th>\n",
       "      <td>01-08-2019</td>\n",
       "      <td>U4</td>\n",
       "      <td>401</td>\n",
       "      <td>IDA</td>\n",
       "      <td>004 - Punta Mañana</td>\n",
       "      <td>20</td>\n",
       "      <td>21</td>\n",
       "      <td>37.51</td>\n",
       "      <td>1.00</td>\n",
       "    </tr>\n",
       "    <tr>\n",
       "      <th>189412</th>\n",
       "      <td>01-08-2019</td>\n",
       "      <td>U4</td>\n",
       "      <td>401</td>\n",
       "      <td>IDA</td>\n",
       "      <td>005 - Transición Punta mañana</td>\n",
       "      <td>8</td>\n",
       "      <td>6</td>\n",
       "      <td>37.51</td>\n",
       "      <td>0.75</td>\n",
       "    </tr>\n",
       "    <tr>\n",
       "      <th>189413</th>\n",
       "      <td>01-08-2019</td>\n",
       "      <td>U4</td>\n",
       "      <td>401</td>\n",
       "      <td>IDA</td>\n",
       "      <td>006 - Fuera Punta Mañana</td>\n",
       "      <td>27</td>\n",
       "      <td>27</td>\n",
       "      <td>37.51</td>\n",
       "      <td>1.00</td>\n",
       "    </tr>\n",
       "    <tr>\n",
       "      <th>189414</th>\n",
       "      <td>01-08-2019</td>\n",
       "      <td>U4</td>\n",
       "      <td>401</td>\n",
       "      <td>IDA</td>\n",
       "      <td>008 - Fuera de Punta Tarde</td>\n",
       "      <td>37</td>\n",
       "      <td>32</td>\n",
       "      <td>37.51</td>\n",
       "      <td>0.86</td>\n",
       "    </tr>\n",
       "    <tr>\n",
       "      <th>189415</th>\n",
       "      <td>01-08-2019</td>\n",
       "      <td>U4</td>\n",
       "      <td>401</td>\n",
       "      <td>IDA</td>\n",
       "      <td>009 - Punta Tarde</td>\n",
       "      <td>18</td>\n",
       "      <td>12</td>\n",
       "      <td>37.51</td>\n",
       "      <td>0.67</td>\n",
       "    </tr>\n",
       "  </tbody>\n",
       "</table>\n",
       "</div>"
      ],
      "text/plain": [
       "              date unity service sence                         period  sp  so  \\\n",
       "189408  01-08-2019    U4     401   IDA   001 - Pre Nocturno Madrugada   2   3   \n",
       "189409  01-08-2019    U4     401   IDA                 002 - Nocturno  11  12   \n",
       "189410  01-08-2019    U4     401   IDA      003 - Transición Nocturno   9  10   \n",
       "189411  01-08-2019    U4     401   IDA             004 - Punta Mañana  20  21   \n",
       "189412  01-08-2019    U4     401   IDA  005 - Transición Punta mañana   8   6   \n",
       "189413  01-08-2019    U4     401   IDA       006 - Fuera Punta Mañana  27  27   \n",
       "189414  01-08-2019    U4     401   IDA     008 - Fuera de Punta Tarde  37  32   \n",
       "189415  01-08-2019    U4     401   IDA              009 - Punta Tarde  18  12   \n",
       "\n",
       "        distance   icf  \n",
       "189408     37.51  1.00  \n",
       "189409     37.51  1.00  \n",
       "189410     37.51  1.00  \n",
       "189411     37.51  1.00  \n",
       "189412     37.51  0.75  \n",
       "189413     37.51  1.00  \n",
       "189414     37.51  0.86  \n",
       "189415     37.51  0.67  "
      ]
     },
     "execution_count": 19,
     "metadata": {},
     "output_type": "execute_result"
    }
   ],
   "source": [
    "is_U4 = df.loc[:, 'unity'] == 'U4'\n",
    "df_U4 = df.loc[is_U4]\n",
    "df_U4.head(8)"
   ]
  },
  {
   "cell_type": "code",
   "execution_count": 20,
   "metadata": {},
   "outputs": [],
   "source": [
    "x3 = df_U4['distance'].values.reshape(-1,1)\n",
    "y3 = df_U4['icf'].values.reshape(-1,1)"
   ]
  },
  {
   "cell_type": "code",
   "execution_count": 21,
   "metadata": {},
   "outputs": [],
   "source": [
    "mod_U4 = linear_model.LinearRegression()"
   ]
  },
  {
   "cell_type": "code",
   "execution_count": 22,
   "metadata": {},
   "outputs": [
    {
     "data": {
      "text/plain": [
       "LinearRegression(copy_X=True, fit_intercept=True, n_jobs=None, normalize=False)"
      ]
     },
     "execution_count": 22,
     "metadata": {},
     "output_type": "execute_result"
    }
   ],
   "source": [
    "mod_U4.fit(x3,y3)"
   ]
  },
  {
   "cell_type": "code",
   "execution_count": 23,
   "metadata": {},
   "outputs": [
    {
     "data": {
      "image/png": "[encoded data removed]",
      "text/plain": [
       "<Figure size 432x288 with 1 Axes>"
      ]
     },
     "metadata": {
      "needs_background": "light"
     },
     "output_type": "display_data"
    }
   ],
   "source": [
    "plt.scatter(x3,y3, color= 'black')\n",
    "plt.plot(x3, mod_U4.predict(x3), color = 'blue', linewidth=3)\n",
    "plt.show()"
   ]
  },
  {
   "cell_type": "code",
   "execution_count": 24,
   "metadata": {},
   "outputs": [
    {
     "data": {
      "text/plain": [
       "0.0030286127575970268"
      ]
     },
     "execution_count": 24,
     "metadata": {},
     "output_type": "execute_result"
    }
   ],
   "source": [
    "r2_U4 = r2_score(y3, mod_U4.predict(x3))\n",
    "r2_U4  "
   ]
  },
  {
   "cell_type": "markdown",
   "metadata": {},
   "source": [
    "### U5 MetBus"
   ]
  },
  {
   "cell_type": "code",
   "execution_count": 25,
   "metadata": {},
   "outputs": [
    {
     "data": {
      "text/html": [
       "<div>\n",
       "<style scoped>\n",
       "    .dataframe tbody tr th:only-of-type {\n",
       "        vertical-align: middle;\n",
       "    }\n",
       "\n",
       "    .dataframe tbody tr th {\n",
       "        vertical-align: top;\n",
       "    }\n",
       "\n",
       "    .dataframe thead th {\n",
       "        text-align: right;\n",
       "    }\n",
       "</style>\n",
       "<table border=\"1\" class=\"dataframe\">\n",
       "  <thead>\n",
       "    <tr style=\"text-align: right;\">\n",
       "      <th></th>\n",
       "      <th>date</th>\n",
       "      <th>unity</th>\n",
       "      <th>service</th>\n",
       "      <th>sence</th>\n",
       "      <th>period</th>\n",
       "      <th>sp</th>\n",
       "      <th>so</th>\n",
       "      <th>distance</th>\n",
       "      <th>icf</th>\n",
       "    </tr>\n",
       "  </thead>\n",
       "  <tbody>\n",
       "    <tr>\n",
       "      <th>263145</th>\n",
       "      <td>01-08-2019</td>\n",
       "      <td>U5</td>\n",
       "      <td>501</td>\n",
       "      <td>IDA</td>\n",
       "      <td>003 - Transición Nocturno</td>\n",
       "      <td>3</td>\n",
       "      <td>3</td>\n",
       "      <td>11.08</td>\n",
       "      <td>1.00</td>\n",
       "    </tr>\n",
       "    <tr>\n",
       "      <th>263146</th>\n",
       "      <td>01-08-2019</td>\n",
       "      <td>U5</td>\n",
       "      <td>501</td>\n",
       "      <td>IDA</td>\n",
       "      <td>004 - Punta Mañana</td>\n",
       "      <td>23</td>\n",
       "      <td>21</td>\n",
       "      <td>11.08</td>\n",
       "      <td>0.91</td>\n",
       "    </tr>\n",
       "    <tr>\n",
       "      <th>263147</th>\n",
       "      <td>01-08-2019</td>\n",
       "      <td>U5</td>\n",
       "      <td>501</td>\n",
       "      <td>IDA</td>\n",
       "      <td>005 - Transición Punta mañana</td>\n",
       "      <td>12</td>\n",
       "      <td>13</td>\n",
       "      <td>11.08</td>\n",
       "      <td>1.00</td>\n",
       "    </tr>\n",
       "    <tr>\n",
       "      <th>263148</th>\n",
       "      <td>01-08-2019</td>\n",
       "      <td>U5</td>\n",
       "      <td>501</td>\n",
       "      <td>IDA</td>\n",
       "      <td>006 - Fuera Punta Mañana</td>\n",
       "      <td>26</td>\n",
       "      <td>26</td>\n",
       "      <td>11.08</td>\n",
       "      <td>1.00</td>\n",
       "    </tr>\n",
       "    <tr>\n",
       "      <th>263149</th>\n",
       "      <td>01-08-2019</td>\n",
       "      <td>U5</td>\n",
       "      <td>501</td>\n",
       "      <td>IDA</td>\n",
       "      <td>009 - Punta Tarde</td>\n",
       "      <td>37</td>\n",
       "      <td>39</td>\n",
       "      <td>11.08</td>\n",
       "      <td>1.00</td>\n",
       "    </tr>\n",
       "    <tr>\n",
       "      <th>263150</th>\n",
       "      <td>01-08-2019</td>\n",
       "      <td>U5</td>\n",
       "      <td>501</td>\n",
       "      <td>IDA</td>\n",
       "      <td>010 - Transición Punta Tarde</td>\n",
       "      <td>8</td>\n",
       "      <td>8</td>\n",
       "      <td>11.08</td>\n",
       "      <td>1.00</td>\n",
       "    </tr>\n",
       "    <tr>\n",
       "      <th>263151</th>\n",
       "      <td>01-08-2019</td>\n",
       "      <td>U5</td>\n",
       "      <td>501</td>\n",
       "      <td>IDA</td>\n",
       "      <td>011 - Fuera de Punta Nocturno</td>\n",
       "      <td>7</td>\n",
       "      <td>8</td>\n",
       "      <td>11.08</td>\n",
       "      <td>1.00</td>\n",
       "    </tr>\n",
       "    <tr>\n",
       "      <th>263152</th>\n",
       "      <td>01-08-2019</td>\n",
       "      <td>U5</td>\n",
       "      <td>501</td>\n",
       "      <td>IDA</td>\n",
       "      <td>012 - Pre Nocturno Noche</td>\n",
       "      <td>3</td>\n",
       "      <td>3</td>\n",
       "      <td>11.08</td>\n",
       "      <td>1.00</td>\n",
       "    </tr>\n",
       "  </tbody>\n",
       "</table>\n",
       "</div>"
      ],
      "text/plain": [
       "              date unity service sence                         period  sp  so  \\\n",
       "263145  01-08-2019    U5     501   IDA      003 - Transición Nocturno   3   3   \n",
       "263146  01-08-2019    U5     501   IDA             004 - Punta Mañana  23  21   \n",
       "263147  01-08-2019    U5     501   IDA  005 - Transición Punta mañana  12  13   \n",
       "263148  01-08-2019    U5     501   IDA       006 - Fuera Punta Mañana  26  26   \n",
       "263149  01-08-2019    U5     501   IDA              009 - Punta Tarde  37  39   \n",
       "263150  01-08-2019    U5     501   IDA   010 - Transición Punta Tarde   8   8   \n",
       "263151  01-08-2019    U5     501   IDA  011 - Fuera de Punta Nocturno   7   8   \n",
       "263152  01-08-2019    U5     501   IDA       012 - Pre Nocturno Noche   3   3   \n",
       "\n",
       "        distance   icf  \n",
       "263145     11.08  1.00  \n",
       "263146     11.08  0.91  \n",
       "263147     11.08  1.00  \n",
       "263148     11.08  1.00  \n",
       "263149     11.08  1.00  \n",
       "263150     11.08  1.00  \n",
       "263151     11.08  1.00  \n",
       "263152     11.08  1.00  "
      ]
     },
     "execution_count": 25,
     "metadata": {},
     "output_type": "execute_result"
    }
   ],
   "source": [
    "is_U5 = df.loc[:, 'unity'] == 'U5'\n",
    "df_U5 = df.loc[is_U5]\n",
    "df_U5.head(8)"
   ]
  },
  {
   "cell_type": "code",
   "execution_count": 26,
   "metadata": {},
   "outputs": [],
   "source": [
    "x4 = df_U5['distance'].values.reshape(-1,1)\n",
    "y4 = df_U5['icf'].values.reshape(-1,1)"
   ]
  },
  {
   "cell_type": "code",
   "execution_count": 27,
   "metadata": {},
   "outputs": [],
   "source": [
    "mod_U5 = linear_model.LinearRegression()"
   ]
  },
  {
   "cell_type": "code",
   "execution_count": 28,
   "metadata": {},
   "outputs": [
    {
     "data": {
      "text/plain": [
       "LinearRegression(copy_X=True, fit_intercept=True, n_jobs=None, normalize=False)"
      ]
     },
     "execution_count": 28,
     "metadata": {},
     "output_type": "execute_result"
    }
   ],
   "source": [
    "mod_U5.fit(x4,y4)"
   ]
  },
  {
   "cell_type": "code",
   "execution_count": 29,
   "metadata": {},
   "outputs": [
    {
     "data": {
      "image/png": "[encoded data removed]",
      "text/plain": [
       "<Figure size 432x288 with 1 Axes>"
      ]
     },
     "metadata": {
      "needs_background": "light"
     },
     "output_type": "display_data"
    }
   ],
   "source": [
    "plt.scatter(x4,y4, color= 'black')\n",
    "plt.plot(x4, mod_U5.predict(x4), color = 'blue', linewidth=3)\n",
    "plt.show()"
   ]
  },
  {
   "cell_type": "code",
   "execution_count": 30,
   "metadata": {},
   "outputs": [
    {
     "data": {
      "text/plain": [
       "0.0015828127330060893"
      ]
     },
     "execution_count": 30,
     "metadata": {},
     "output_type": "execute_result"
    }
   ],
   "source": [
    "r2_U5 = r2_score(y4, mod_U5.predict(x4))\n",
    "r2_U5  "
   ]
  },
  {
   "cell_type": "markdown",
   "metadata": {},
   "source": [
    "### U6 RedBus"
   ]
  },
  {
   "cell_type": "code",
   "execution_count": 31,
   "metadata": {},
   "outputs": [
    {
     "data": {
      "text/html": [
       "<div>\n",
       "<style scoped>\n",
       "    .dataframe tbody tr th:only-of-type {\n",
       "        vertical-align: middle;\n",
       "    }\n",
       "\n",
       "    .dataframe tbody tr th {\n",
       "        vertical-align: top;\n",
       "    }\n",
       "\n",
       "    .dataframe thead th {\n",
       "        text-align: right;\n",
       "    }\n",
       "</style>\n",
       "<table border=\"1\" class=\"dataframe\">\n",
       "  <thead>\n",
       "    <tr style=\"text-align: right;\">\n",
       "      <th></th>\n",
       "      <th>date</th>\n",
       "      <th>unity</th>\n",
       "      <th>service</th>\n",
       "      <th>sence</th>\n",
       "      <th>period</th>\n",
       "      <th>sp</th>\n",
       "      <th>so</th>\n",
       "      <th>distance</th>\n",
       "      <th>icf</th>\n",
       "    </tr>\n",
       "  </thead>\n",
       "  <tbody>\n",
       "    <tr>\n",
       "      <th>329154</th>\n",
       "      <td>01-08-2019</td>\n",
       "      <td>U6</td>\n",
       "      <td>B01</td>\n",
       "      <td>IDA</td>\n",
       "      <td>001 - Pre Nocturno Madrugada</td>\n",
       "      <td>3</td>\n",
       "      <td>3</td>\n",
       "      <td>10.12</td>\n",
       "      <td>1.00</td>\n",
       "    </tr>\n",
       "    <tr>\n",
       "      <th>329155</th>\n",
       "      <td>01-08-2019</td>\n",
       "      <td>U6</td>\n",
       "      <td>B01</td>\n",
       "      <td>IDA</td>\n",
       "      <td>003 - Transición Nocturno</td>\n",
       "      <td>4</td>\n",
       "      <td>4</td>\n",
       "      <td>10.12</td>\n",
       "      <td>1.00</td>\n",
       "    </tr>\n",
       "    <tr>\n",
       "      <th>329156</th>\n",
       "      <td>01-08-2019</td>\n",
       "      <td>U6</td>\n",
       "      <td>B01</td>\n",
       "      <td>IDA</td>\n",
       "      <td>004 - Punta Mañana</td>\n",
       "      <td>12</td>\n",
       "      <td>11</td>\n",
       "      <td>10.12</td>\n",
       "      <td>0.92</td>\n",
       "    </tr>\n",
       "    <tr>\n",
       "      <th>329157</th>\n",
       "      <td>01-08-2019</td>\n",
       "      <td>U6</td>\n",
       "      <td>B01</td>\n",
       "      <td>IDA</td>\n",
       "      <td>005 - Transición Punta mañana</td>\n",
       "      <td>6</td>\n",
       "      <td>6</td>\n",
       "      <td>10.12</td>\n",
       "      <td>1.00</td>\n",
       "    </tr>\n",
       "    <tr>\n",
       "      <th>329158</th>\n",
       "      <td>01-08-2019</td>\n",
       "      <td>U6</td>\n",
       "      <td>B01</td>\n",
       "      <td>IDA</td>\n",
       "      <td>006 - Fuera Punta Mañana</td>\n",
       "      <td>16</td>\n",
       "      <td>16</td>\n",
       "      <td>10.12</td>\n",
       "      <td>1.00</td>\n",
       "    </tr>\n",
       "    <tr>\n",
       "      <th>329159</th>\n",
       "      <td>01-08-2019</td>\n",
       "      <td>U6</td>\n",
       "      <td>B01</td>\n",
       "      <td>IDA</td>\n",
       "      <td>008 - Fuera de Punta Tarde</td>\n",
       "      <td>21</td>\n",
       "      <td>21</td>\n",
       "      <td>10.12</td>\n",
       "      <td>1.00</td>\n",
       "    </tr>\n",
       "    <tr>\n",
       "      <th>329160</th>\n",
       "      <td>01-08-2019</td>\n",
       "      <td>U6</td>\n",
       "      <td>B01</td>\n",
       "      <td>IDA</td>\n",
       "      <td>009 - Punta Tarde</td>\n",
       "      <td>19</td>\n",
       "      <td>17</td>\n",
       "      <td>10.12</td>\n",
       "      <td>0.89</td>\n",
       "    </tr>\n",
       "    <tr>\n",
       "      <th>329161</th>\n",
       "      <td>01-08-2019</td>\n",
       "      <td>U6</td>\n",
       "      <td>B01</td>\n",
       "      <td>IDA</td>\n",
       "      <td>010 - Transición Punta Tarde</td>\n",
       "      <td>6</td>\n",
       "      <td>6</td>\n",
       "      <td>10.12</td>\n",
       "      <td>1.00</td>\n",
       "    </tr>\n",
       "  </tbody>\n",
       "</table>\n",
       "</div>"
      ],
      "text/plain": [
       "              date unity service sence                         period  sp  so  \\\n",
       "329154  01-08-2019    U6     B01   IDA   001 - Pre Nocturno Madrugada   3   3   \n",
       "329155  01-08-2019    U6     B01   IDA      003 - Transición Nocturno   4   4   \n",
       "329156  01-08-2019    U6     B01   IDA             004 - Punta Mañana  12  11   \n",
       "329157  01-08-2019    U6     B01   IDA  005 - Transición Punta mañana   6   6   \n",
       "329158  01-08-2019    U6     B01   IDA       006 - Fuera Punta Mañana  16  16   \n",
       "329159  01-08-2019    U6     B01   IDA     008 - Fuera de Punta Tarde  21  21   \n",
       "329160  01-08-2019    U6     B01   IDA              009 - Punta Tarde  19  17   \n",
       "329161  01-08-2019    U6     B01   IDA   010 - Transición Punta Tarde   6   6   \n",
       "\n",
       "        distance   icf  \n",
       "329154     10.12  1.00  \n",
       "329155     10.12  1.00  \n",
       "329156     10.12  0.92  \n",
       "329157     10.12  1.00  \n",
       "329158     10.12  1.00  \n",
       "329159     10.12  1.00  \n",
       "329160     10.12  0.89  \n",
       "329161     10.12  1.00  "
      ]
     },
     "execution_count": 31,
     "metadata": {},
     "output_type": "execute_result"
    }
   ],
   "source": [
    "is_U6 = df.loc[:, 'unity'] == 'U6'\n",
    "df_U6 = df.loc[is_U6]\n",
    "df_U6.head(8)"
   ]
  },
  {
   "cell_type": "code",
   "execution_count": 32,
   "metadata": {},
   "outputs": [],
   "source": [
    "x5 = df_U6['distance'].values.reshape(-1,1)\n",
    "y5 = df_U6['icf'].values.reshape(-1,1)"
   ]
  },
  {
   "cell_type": "code",
   "execution_count": 33,
   "metadata": {},
   "outputs": [],
   "source": [
    "mod_U6 = linear_model.LinearRegression()"
   ]
  },
  {
   "cell_type": "code",
   "execution_count": 34,
   "metadata": {},
   "outputs": [
    {
     "data": {
      "text/plain": [
       "LinearRegression(copy_X=True, fit_intercept=True, n_jobs=None, normalize=False)"
      ]
     },
     "execution_count": 34,
     "metadata": {},
     "output_type": "execute_result"
    }
   ],
   "source": [
    "mod_U6.fit(x5,y5)"
   ]
  },
  {
   "cell_type": "code",
   "execution_count": 35,
   "metadata": {},
   "outputs": [
    {
     "data": {
      "image/png": "[encoded data removed]",
      "text/plain": [
       "<Figure size 432x288 with 1 Axes>"
      ]
     },
     "metadata": {
      "needs_background": "light"
     },
     "output_type": "display_data"
    }
   ],
   "source": [
    "plt.scatter(x5,y5, color= 'black')\n",
    "plt.plot(x5, mod_U6.predict(x5), color = 'blue', linewidth=3)\n",
    "plt.show()"
   ]
  },
  {
   "cell_type": "code",
   "execution_count": 36,
   "metadata": {},
   "outputs": [
    {
     "data": {
      "text/plain": [
       "9.357283923250304e-05"
      ]
     },
     "execution_count": 36,
     "metadata": {},
     "output_type": "execute_result"
    }
   ],
   "source": [
    "r2_U6 = r2_score(y5, mod_U6.predict(x5))\n",
    "r2_U6"
   ]
  },
  {
   "cell_type": "markdown",
   "metadata": {},
   "source": [
    "### U7 STP"
   ]
  },
  {
   "cell_type": "code",
   "execution_count": 37,
   "metadata": {},
   "outputs": [
    {
     "data": {
      "text/html": [
       "<div>\n",
       "<style scoped>\n",
       "    .dataframe tbody tr th:only-of-type {\n",
       "        vertical-align: middle;\n",
       "    }\n",
       "\n",
       "    .dataframe tbody tr th {\n",
       "        vertical-align: top;\n",
       "    }\n",
       "\n",
       "    .dataframe thead th {\n",
       "        text-align: right;\n",
       "    }\n",
       "</style>\n",
       "<table border=\"1\" class=\"dataframe\">\n",
       "  <thead>\n",
       "    <tr style=\"text-align: right;\">\n",
       "      <th></th>\n",
       "      <th>date</th>\n",
       "      <th>unity</th>\n",
       "      <th>service</th>\n",
       "      <th>sence</th>\n",
       "      <th>period</th>\n",
       "      <th>sp</th>\n",
       "      <th>so</th>\n",
       "      <th>distance</th>\n",
       "      <th>icf</th>\n",
       "    </tr>\n",
       "  </thead>\n",
       "  <tbody>\n",
       "    <tr>\n",
       "      <th>408779</th>\n",
       "      <td>01-08-2019</td>\n",
       "      <td>U7</td>\n",
       "      <td>F01</td>\n",
       "      <td>IDA</td>\n",
       "      <td>002 - Nocturno</td>\n",
       "      <td>1</td>\n",
       "      <td>1</td>\n",
       "      <td>14.25</td>\n",
       "      <td>1.0</td>\n",
       "    </tr>\n",
       "    <tr>\n",
       "      <th>408780</th>\n",
       "      <td>01-08-2019</td>\n",
       "      <td>U7</td>\n",
       "      <td>F01</td>\n",
       "      <td>IDA</td>\n",
       "      <td>003 - Transición Nocturno</td>\n",
       "      <td>4</td>\n",
       "      <td>4</td>\n",
       "      <td>14.25</td>\n",
       "      <td>1.0</td>\n",
       "    </tr>\n",
       "    <tr>\n",
       "      <th>408781</th>\n",
       "      <td>01-08-2019</td>\n",
       "      <td>U7</td>\n",
       "      <td>F01</td>\n",
       "      <td>IDA</td>\n",
       "      <td>004 - Punta Mañana</td>\n",
       "      <td>11</td>\n",
       "      <td>11</td>\n",
       "      <td>14.25</td>\n",
       "      <td>1.0</td>\n",
       "    </tr>\n",
       "    <tr>\n",
       "      <th>408782</th>\n",
       "      <td>01-08-2019</td>\n",
       "      <td>U7</td>\n",
       "      <td>F01</td>\n",
       "      <td>IDA</td>\n",
       "      <td>005 - Transición Punta mañana</td>\n",
       "      <td>5</td>\n",
       "      <td>5</td>\n",
       "      <td>14.25</td>\n",
       "      <td>1.0</td>\n",
       "    </tr>\n",
       "    <tr>\n",
       "      <th>408783</th>\n",
       "      <td>01-08-2019</td>\n",
       "      <td>U7</td>\n",
       "      <td>F01</td>\n",
       "      <td>IDA</td>\n",
       "      <td>006 - Fuera Punta Mañana</td>\n",
       "      <td>14</td>\n",
       "      <td>14</td>\n",
       "      <td>14.25</td>\n",
       "      <td>1.0</td>\n",
       "    </tr>\n",
       "    <tr>\n",
       "      <th>408784</th>\n",
       "      <td>01-08-2019</td>\n",
       "      <td>U7</td>\n",
       "      <td>F01</td>\n",
       "      <td>IDA</td>\n",
       "      <td>008 - Fuera de Punta Tarde</td>\n",
       "      <td>16</td>\n",
       "      <td>16</td>\n",
       "      <td>14.25</td>\n",
       "      <td>1.0</td>\n",
       "    </tr>\n",
       "    <tr>\n",
       "      <th>408785</th>\n",
       "      <td>01-08-2019</td>\n",
       "      <td>U7</td>\n",
       "      <td>F01</td>\n",
       "      <td>IDA</td>\n",
       "      <td>009 - Punta Tarde</td>\n",
       "      <td>15</td>\n",
       "      <td>15</td>\n",
       "      <td>14.25</td>\n",
       "      <td>1.0</td>\n",
       "    </tr>\n",
       "    <tr>\n",
       "      <th>408786</th>\n",
       "      <td>01-08-2019</td>\n",
       "      <td>U7</td>\n",
       "      <td>F01</td>\n",
       "      <td>IDA</td>\n",
       "      <td>010 - Transición Punta Tarde</td>\n",
       "      <td>5</td>\n",
       "      <td>5</td>\n",
       "      <td>14.25</td>\n",
       "      <td>1.0</td>\n",
       "    </tr>\n",
       "  </tbody>\n",
       "</table>\n",
       "</div>"
      ],
      "text/plain": [
       "              date unity service sence                         period  sp  so  \\\n",
       "408779  01-08-2019    U7     F01   IDA                 002 - Nocturno   1   1   \n",
       "408780  01-08-2019    U7     F01   IDA      003 - Transición Nocturno   4   4   \n",
       "408781  01-08-2019    U7     F01   IDA             004 - Punta Mañana  11  11   \n",
       "408782  01-08-2019    U7     F01   IDA  005 - Transición Punta mañana   5   5   \n",
       "408783  01-08-2019    U7     F01   IDA       006 - Fuera Punta Mañana  14  14   \n",
       "408784  01-08-2019    U7     F01   IDA     008 - Fuera de Punta Tarde  16  16   \n",
       "408785  01-08-2019    U7     F01   IDA              009 - Punta Tarde  15  15   \n",
       "408786  01-08-2019    U7     F01   IDA   010 - Transición Punta Tarde   5   5   \n",
       "\n",
       "        distance  icf  \n",
       "408779     14.25  1.0  \n",
       "408780     14.25  1.0  \n",
       "408781     14.25  1.0  \n",
       "408782     14.25  1.0  \n",
       "408783     14.25  1.0  \n",
       "408784     14.25  1.0  \n",
       "408785     14.25  1.0  \n",
       "408786     14.25  1.0  "
      ]
     },
     "execution_count": 37,
     "metadata": {},
     "output_type": "execute_result"
    }
   ],
   "source": [
    "is_U7 = df.loc[:, 'unity'] == 'U7'\n",
    "df_U7 = df.loc[is_U7]\n",
    "df_U7.head(8)"
   ]
  },
  {
   "cell_type": "code",
   "execution_count": 38,
   "metadata": {},
   "outputs": [],
   "source": [
    "x6 = df_U7['distance'].values.reshape(-1,1)\n",
    "y6 = df_U7['icf'].values.reshape(-1,1)"
   ]
  },
  {
   "cell_type": "code",
   "execution_count": 39,
   "metadata": {},
   "outputs": [],
   "source": [
    "mod_U7 = linear_model.LinearRegression()"
   ]
  },
  {
   "cell_type": "code",
   "execution_count": 40,
   "metadata": {},
   "outputs": [
    {
     "data": {
      "text/plain": [
       "LinearRegression(copy_X=True, fit_intercept=True, n_jobs=None, normalize=False)"
      ]
     },
     "execution_count": 40,
     "metadata": {},
     "output_type": "execute_result"
    }
   ],
   "source": [
    "mod_U7.fit(x6,y6)"
   ]
  },
  {
   "cell_type": "code",
   "execution_count": 41,
   "metadata": {},
   "outputs": [
    {
     "data": {
      "image/png": "[encoded data removed]",
      "text/plain": [
       "<Figure size 432x288 with 1 Axes>"
      ]
     },
     "metadata": {
      "needs_background": "light"
     },
     "output_type": "display_data"
    }
   ],
   "source": [
    "plt.scatter(x6,y6, color= 'black')\n",
    "plt.plot(x6, mod_U7.predict(x6), color = 'blue', linewidth=3)\n",
    "plt.show()"
   ]
  },
  {
   "cell_type": "code",
   "execution_count": 42,
   "metadata": {},
   "outputs": [
    {
     "data": {
      "text/plain": [
       "0.0004224892895712262"
      ]
     },
     "execution_count": 42,
     "metadata": {},
     "output_type": "execute_result"
    }
   ],
   "source": [
    "r2_U7 = r2_score(y6, mod_U7.predict(x6))\n",
    "r2_U7"
   ]
  },
  {
   "cell_type": "markdown",
   "metadata": {},
   "source": [
    "### Resumen"
   ]
  },
  {
   "cell_type": "code",
   "execution_count": 99,
   "metadata": {},
   "outputs": [],
   "source": [
    "def counter(x, inf, sup):\n",
    "    con = 0    \n",
    "    for i in x:\n",
    "        if i > inf and i <= sup:\n",
    "            con +=1                           \n",
    "    return con\n",
    "# función que cuenta número de elementos dentro de cierto de rango"
   ]
  },
  {
   "cell_type": "code",
   "execution_count": 104,
   "metadata": {},
   "outputs": [
    {
     "data": {
      "text/html": [
       "<div>\n",
       "<style scoped>\n",
       "    .dataframe tbody tr th:only-of-type {\n",
       "        vertical-align: middle;\n",
       "    }\n",
       "\n",
       "    .dataframe tbody tr th {\n",
       "        vertical-align: top;\n",
       "    }\n",
       "\n",
       "    .dataframe thead th {\n",
       "        text-align: right;\n",
       "    }\n",
       "</style>\n",
       "<table border=\"1\" class=\"dataframe\">\n",
       "  <thead>\n",
       "    <tr style=\"text-align: right;\">\n",
       "      <th></th>\n",
       "      <th>unity</th>\n",
       "      <th>n</th>\n",
       "      <th>r2</th>\n",
       "      <th>[0, 0.25]</th>\n",
       "      <th>[0, 0.25] %</th>\n",
       "      <th>]0.25-0.5]</th>\n",
       "      <th>]0.25-0.5] %</th>\n",
       "      <th>]0.5-0.75]</th>\n",
       "      <th>]0.5-0.75] %</th>\n",
       "      <th>]0.75-1.00]</th>\n",
       "      <th>]0.75-1] %</th>\n",
       "    </tr>\n",
       "  </thead>\n",
       "  <tbody>\n",
       "    <tr>\n",
       "      <th>0</th>\n",
       "      <td>U2</td>\n",
       "      <td>70202</td>\n",
       "      <td>0.013618</td>\n",
       "      <td>33</td>\n",
       "      <td>0.047007</td>\n",
       "      <td>391</td>\n",
       "      <td>0.556964</td>\n",
       "      <td>2600</td>\n",
       "      <td>3.703598</td>\n",
       "      <td>67211</td>\n",
       "      <td>95.739438</td>\n",
       "    </tr>\n",
       "    <tr>\n",
       "      <th>1</th>\n",
       "      <td>U3</td>\n",
       "      <td>119206</td>\n",
       "      <td>0.003271</td>\n",
       "      <td>38</td>\n",
       "      <td>0.031878</td>\n",
       "      <td>155</td>\n",
       "      <td>0.130027</td>\n",
       "      <td>1015</td>\n",
       "      <td>0.851467</td>\n",
       "      <td>117998</td>\n",
       "      <td>98.986628</td>\n",
       "    </tr>\n",
       "    <tr>\n",
       "      <th>2</th>\n",
       "      <td>U4</td>\n",
       "      <td>73737</td>\n",
       "      <td>0.003029</td>\n",
       "      <td>126</td>\n",
       "      <td>0.170878</td>\n",
       "      <td>522</td>\n",
       "      <td>0.707921</td>\n",
       "      <td>2653</td>\n",
       "      <td>3.597922</td>\n",
       "      <td>70436</td>\n",
       "      <td>95.523279</td>\n",
       "    </tr>\n",
       "    <tr>\n",
       "      <th>3</th>\n",
       "      <td>U5</td>\n",
       "      <td>66009</td>\n",
       "      <td>0.001583</td>\n",
       "      <td>12</td>\n",
       "      <td>0.018179</td>\n",
       "      <td>67</td>\n",
       "      <td>0.101501</td>\n",
       "      <td>231</td>\n",
       "      <td>0.349952</td>\n",
       "      <td>65699</td>\n",
       "      <td>99.530367</td>\n",
       "    </tr>\n",
       "    <tr>\n",
       "      <th>4</th>\n",
       "      <td>U6</td>\n",
       "      <td>79625</td>\n",
       "      <td>0.000094</td>\n",
       "      <td>36</td>\n",
       "      <td>0.045212</td>\n",
       "      <td>80</td>\n",
       "      <td>0.100471</td>\n",
       "      <td>810</td>\n",
       "      <td>1.017268</td>\n",
       "      <td>78699</td>\n",
       "      <td>98.837049</td>\n",
       "    </tr>\n",
       "    <tr>\n",
       "      <th>5</th>\n",
       "      <td>U7</td>\n",
       "      <td>46068</td>\n",
       "      <td>0.000422</td>\n",
       "      <td>18</td>\n",
       "      <td>0.039073</td>\n",
       "      <td>36</td>\n",
       "      <td>0.078145</td>\n",
       "      <td>97</td>\n",
       "      <td>0.210558</td>\n",
       "      <td>45917</td>\n",
       "      <td>99.672224</td>\n",
       "    </tr>\n",
       "  </tbody>\n",
       "</table>\n",
       "</div>"
      ],
      "text/plain": [
       "  unity       n        r2  [0, 0.25]  [0, 0.25] %  ]0.25-0.5]  ]0.25-0.5] %  \\\n",
       "0    U2   70202  0.013618         33     0.047007         391      0.556964   \n",
       "1    U3  119206  0.003271         38     0.031878         155      0.130027   \n",
       "2    U4   73737  0.003029        126     0.170878         522      0.707921   \n",
       "3    U5   66009  0.001583         12     0.018179          67      0.101501   \n",
       "4    U6   79625  0.000094         36     0.045212          80      0.100471   \n",
       "5    U7   46068  0.000422         18     0.039073          36      0.078145   \n",
       "\n",
       "   ]0.5-0.75]  ]0.5-0.75] %  ]0.75-1.00]  ]0.75-1] %  \n",
       "0        2600      3.703598        67211   95.739438  \n",
       "1        1015      0.851467       117998   98.986628  \n",
       "2        2653      3.597922        70436   95.523279  \n",
       "3         231      0.349952        65699   99.530367  \n",
       "4         810      1.017268        78699   98.837049  \n",
       "5          97      0.210558        45917   99.672224  "
      ]
     },
     "execution_count": 104,
     "metadata": {},
     "output_type": "execute_result"
    }
   ],
   "source": [
    "df_unity = pd.DataFrame({'unity': ['U2', 'U3', 'U4', 'U5', 'U6', 'U7']})\n",
    "df_unity['n'] = [len(x1), len(x2), len(x3), len(x4), len(x5), len(x6)]\n",
    "df_unity['r2'] = [r2_U2, r2_U3, r2_U4, r2_U5, r2_U6, r2_U7]\n",
    "df_unity['[0, 0.25]'] = [counter(y1,-1,0.25), counter(y2,-1,0.25), counter(y3,-1,0.25), counter(y4,-1,0.25),\n",
    "                    counter(y5,-1,0.25), counter(y6,-1,0.25)]\n",
    "df_unity['[0, 0.25] %'] = (df_unity['[0, 0.25]']/df_unity['n'])*100\n",
    "df_unity[']0.25-0.5]'] = [counter(y1,-1, 0.5), counter(y2,0.25, 0.5), counter(y3,0.25, 0.5), counter(y4,0.25, 0.5),\n",
    "                    counter(y5,0.25, 0.5), counter(y6,0.25, 0.5)]\n",
    "df_unity[']0.25-0.5] %'] = (df_unity[']0.25-0.5]']/df_unity['n'])*100\n",
    "df_unity[']0.5-0.75]'] = [counter(y1,0.5,0.75), counter(y2,0.5,0.75), counter(y3,0.5,0.75), counter(y4,0.5,0.75),\n",
    "                    counter(y5,0.5,0.75), counter(y6,0.5,0.75)]\n",
    "df_unity[']0.5-0.75] %'] = (df_unity[']0.5-0.75]']/df_unity['n'])*100\n",
    "df_unity[']0.75-1.00]'] = [counter(y1,0.75,1), counter(y2,0.75,1), counter(y3,0.75,1), counter(y4,0.75,1),\n",
    "                    counter(y5,0.75,1), counter(y6,0.75,1)]\n",
    "df_unity[']0.75-1] %'] = (df_unity[']0.75-1.00]']/df_unity['n'])*100\n",
    "df_unity"
   ]
  },
  {
   "cell_type": "code",
   "execution_count": 117,
   "metadata": {},
   "outputs": [
    {
     "data": {
      "text/html": [
       "<div>\n",
       "<style scoped>\n",
       "    .dataframe tbody tr th:only-of-type {\n",
       "        vertical-align: middle;\n",
       "    }\n",
       "\n",
       "    .dataframe tbody tr th {\n",
       "        vertical-align: top;\n",
       "    }\n",
       "\n",
       "    .dataframe thead th {\n",
       "        text-align: right;\n",
       "    }\n",
       "</style>\n",
       "<table border=\"1\" class=\"dataframe\">\n",
       "  <thead>\n",
       "    <tr style=\"text-align: right;\">\n",
       "      <th></th>\n",
       "      <th>date</th>\n",
       "      <th>unity</th>\n",
       "      <th>service</th>\n",
       "      <th>sence</th>\n",
       "      <th>period</th>\n",
       "      <th>sp</th>\n",
       "      <th>so</th>\n",
       "      <th>distance</th>\n",
       "      <th>icf</th>\n",
       "      <th>1-icf</th>\n",
       "      <th>so-sp</th>\n",
       "    </tr>\n",
       "  </thead>\n",
       "  <tbody>\n",
       "    <tr>\n",
       "      <th>0</th>\n",
       "      <td>01-08-2019</td>\n",
       "      <td>U2</td>\n",
       "      <td>201</td>\n",
       "      <td>IDA</td>\n",
       "      <td>001 - Pre Nocturno Madrugada</td>\n",
       "      <td>3</td>\n",
       "      <td>3</td>\n",
       "      <td>32.12</td>\n",
       "      <td>1.00</td>\n",
       "      <td>0.00</td>\n",
       "      <td>0</td>\n",
       "    </tr>\n",
       "    <tr>\n",
       "      <th>1</th>\n",
       "      <td>01-08-2019</td>\n",
       "      <td>U2</td>\n",
       "      <td>201</td>\n",
       "      <td>IDA</td>\n",
       "      <td>002 - Nocturno</td>\n",
       "      <td>11</td>\n",
       "      <td>11</td>\n",
       "      <td>32.12</td>\n",
       "      <td>1.00</td>\n",
       "      <td>0.00</td>\n",
       "      <td>0</td>\n",
       "    </tr>\n",
       "    <tr>\n",
       "      <th>2</th>\n",
       "      <td>01-08-2019</td>\n",
       "      <td>U2</td>\n",
       "      <td>201</td>\n",
       "      <td>IDA</td>\n",
       "      <td>003 - Transición Nocturno</td>\n",
       "      <td>10</td>\n",
       "      <td>11</td>\n",
       "      <td>32.12</td>\n",
       "      <td>1.00</td>\n",
       "      <td>0.00</td>\n",
       "      <td>1</td>\n",
       "    </tr>\n",
       "    <tr>\n",
       "      <th>3</th>\n",
       "      <td>01-08-2019</td>\n",
       "      <td>U2</td>\n",
       "      <td>201</td>\n",
       "      <td>IDA</td>\n",
       "      <td>004 - Punta Mañana</td>\n",
       "      <td>20</td>\n",
       "      <td>19</td>\n",
       "      <td>32.12</td>\n",
       "      <td>0.95</td>\n",
       "      <td>0.05</td>\n",
       "      <td>-1</td>\n",
       "    </tr>\n",
       "    <tr>\n",
       "      <th>4</th>\n",
       "      <td>01-08-2019</td>\n",
       "      <td>U2</td>\n",
       "      <td>201</td>\n",
       "      <td>IDA</td>\n",
       "      <td>005 - Transición Punta mañana</td>\n",
       "      <td>8</td>\n",
       "      <td>8</td>\n",
       "      <td>32.12</td>\n",
       "      <td>1.00</td>\n",
       "      <td>0.00</td>\n",
       "      <td>0</td>\n",
       "    </tr>\n",
       "    <tr>\n",
       "      <th>5</th>\n",
       "      <td>01-08-2019</td>\n",
       "      <td>U2</td>\n",
       "      <td>201</td>\n",
       "      <td>IDA</td>\n",
       "      <td>006 - Fuera Punta Mañana</td>\n",
       "      <td>24</td>\n",
       "      <td>24</td>\n",
       "      <td>32.12</td>\n",
       "      <td>1.00</td>\n",
       "      <td>0.00</td>\n",
       "      <td>0</td>\n",
       "    </tr>\n",
       "    <tr>\n",
       "      <th>6</th>\n",
       "      <td>01-08-2019</td>\n",
       "      <td>U2</td>\n",
       "      <td>201</td>\n",
       "      <td>IDA</td>\n",
       "      <td>008 - Fuera de Punta Tarde</td>\n",
       "      <td>28</td>\n",
       "      <td>28</td>\n",
       "      <td>32.12</td>\n",
       "      <td>1.00</td>\n",
       "      <td>0.00</td>\n",
       "      <td>0</td>\n",
       "    </tr>\n",
       "    <tr>\n",
       "      <th>7</th>\n",
       "      <td>01-08-2019</td>\n",
       "      <td>U2</td>\n",
       "      <td>201</td>\n",
       "      <td>IDA</td>\n",
       "      <td>009 - Punta Tarde</td>\n",
       "      <td>27</td>\n",
       "      <td>20</td>\n",
       "      <td>32.12</td>\n",
       "      <td>0.74</td>\n",
       "      <td>0.26</td>\n",
       "      <td>-7</td>\n",
       "    </tr>\n",
       "  </tbody>\n",
       "</table>\n",
       "</div>"
      ],
      "text/plain": [
       "         date unity service sence                         period  sp  so  \\\n",
       "0  01-08-2019    U2     201   IDA   001 - Pre Nocturno Madrugada   3   3   \n",
       "1  01-08-2019    U2     201   IDA                 002 - Nocturno  11  11   \n",
       "2  01-08-2019    U2     201   IDA      003 - Transición Nocturno  10  11   \n",
       "3  01-08-2019    U2     201   IDA             004 - Punta Mañana  20  19   \n",
       "4  01-08-2019    U2     201   IDA  005 - Transición Punta mañana   8   8   \n",
       "5  01-08-2019    U2     201   IDA       006 - Fuera Punta Mañana  24  24   \n",
       "6  01-08-2019    U2     201   IDA     008 - Fuera de Punta Tarde  28  28   \n",
       "7  01-08-2019    U2     201   IDA              009 - Punta Tarde  27  20   \n",
       "\n",
       "   distance   icf  1-icf  so-sp  \n",
       "0     32.12  1.00   0.00      0  \n",
       "1     32.12  1.00   0.00      0  \n",
       "2     32.12  1.00   0.00      1  \n",
       "3     32.12  0.95   0.05     -1  \n",
       "4     32.12  1.00   0.00      0  \n",
       "5     32.12  1.00   0.00      0  \n",
       "6     32.12  1.00   0.00      0  \n",
       "7     32.12  0.74   0.26     -7  "
      ]
     },
     "execution_count": 117,
     "metadata": {},
     "output_type": "execute_result"
    }
   ],
   "source": [
    "is_range = df_U2.loc[:, 'icf'] <= 0.75\n",
    "df_U2_075 = df_U2.loc[is_range]\n",
    "df_U2_075.groupby(\"distance\").describe().icf\n",
    "df['1-icf'] = 1-df['icf']\n",
    "df['so-sp'] = df['so']-df['sp']\n",
    "df.head(8)\n",
    "\n",
    "\n",
    "\n",
    "\n",
    "\n"
   ]
  },
  {
   "cell_type": "code",
   "execution_count": 46,
   "metadata": {},
   "outputs": [],
   "source": [
    "a = [1,3,5,65,6,576,58779,9,9,0,75,3,23,5]"
   ]
  },
  {
   "cell_type": "code",
   "execution_count": 47,
   "metadata": {},
   "outputs": [
    {
     "ename": "TypeError",
     "evalue": "'int' object is not subscriptable",
     "output_type": "error",
     "traceback": [
      "\u001b[1;31m---------------------------------------------------------------------------\u001b[0m",
      "\u001b[1;31mTypeError\u001b[0m                                 Traceback (most recent call last)",
      "\u001b[1;32m<ipython-input-47-5391b92d8988>\u001b[0m in \u001b[0;36m<module>\u001b[1;34m\u001b[0m\n\u001b[1;32m----> 1\u001b[1;33m \u001b[0mcounter\u001b[0m\u001b[1;33m(\u001b[0m\u001b[0ma\u001b[0m\u001b[1;33m,\u001b[0m \u001b[1;36m2\u001b[0m\u001b[1;33m,\u001b[0m\u001b[1;36m10\u001b[0m\u001b[1;33m)\u001b[0m\u001b[1;33m\u001b[0m\u001b[1;33m\u001b[0m\u001b[0m\n\u001b[0m",
      "\u001b[1;32m<ipython-input-43-4045f51883b3>\u001b[0m in \u001b[0;36mcounter\u001b[1;34m(x, inf, sup)\u001b[0m\n\u001b[0;32m      2\u001b[0m     \u001b[0mcon\u001b[0m \u001b[1;33m=\u001b[0m \u001b[1;36m0\u001b[0m\u001b[1;33m\u001b[0m\u001b[1;33m\u001b[0m\u001b[0m\n\u001b[0;32m      3\u001b[0m     \u001b[1;32mfor\u001b[0m \u001b[0mi\u001b[0m \u001b[1;32min\u001b[0m \u001b[0mx\u001b[0m\u001b[1;33m:\u001b[0m\u001b[1;33m\u001b[0m\u001b[1;33m\u001b[0m\u001b[0m\n\u001b[1;32m----> 4\u001b[1;33m         \u001b[1;32mif\u001b[0m  \u001b[0mi\u001b[0m\u001b[1;33m[\u001b[0m\u001b[1;36m0\u001b[0m\u001b[1;33m]\u001b[0m \u001b[1;33m<=\u001b[0m \u001b[1;36m0.5\u001b[0m\u001b[1;33m:\u001b[0m\u001b[1;33m\u001b[0m\u001b[1;33m\u001b[0m\u001b[0m\n\u001b[0m\u001b[0;32m      5\u001b[0m             \u001b[0mcon\u001b[0m \u001b[1;33m+=\u001b[0m\u001b[1;36m1\u001b[0m\u001b[1;33m\u001b[0m\u001b[1;33m\u001b[0m\u001b[0m\n\u001b[0;32m      6\u001b[0m     \u001b[1;32mreturn\u001b[0m \u001b[0mcon\u001b[0m\u001b[1;33m\u001b[0m\u001b[1;33m\u001b[0m\u001b[0m\n",
      "\u001b[1;31mTypeError\u001b[0m: 'int' object is not subscriptable"
     ]
    }
   ],
   "source": [
    "counter(a, 2,10)"
   ]
  },
  {
   "cell_type": "code",
   "execution_count": null,
   "metadata": {},
   "outputs": [],
   "source": [
    "x = range(0,3)"
   ]
  },
  {
   "cell_type": "code",
   "execution_count": null,
   "metadata": {},
   "outputs": [],
   "source": [
    "a =[] \n",
    "for i in range(0,3):\n",
    "    a.append(i)\n",
    "a\n",
    "     "
   ]
  },
  {
   "cell_type": "code",
   "execution_count": null,
   "metadata": {},
   "outputs": [],
   "source": [
    "print(x)"
   ]
  },
  {
   "cell_type": "code",
   "execution_count": 98,
   "metadata": {},
   "outputs": [
    {
     "data": {
      "text/plain": [
       "array([0.95])"
      ]
     },
     "execution_count": 98,
     "metadata": {},
     "output_type": "execute_result"
    }
   ],
   "source": [
    "y1[3]"
   ]
  },
  {
   "cell_type": "code",
   "execution_count": null,
   "metadata": {},
   "outputs": [],
   "source": []
  }
 ],
 "metadata": {
  "kernelspec": {
   "display_name": "Python 3",
   "language": "python",
   "name": "python3"
  },
  "language_info": {
   "codemirror_mode": {
    "name": "ipython",
    "version": 3
   },
   "file_extension": ".py",
   "mimetype": "text/x-python",
   "name": "python",
   "nbconvert_exporter": "python",
   "pygments_lexer": "ipython3",
   "version": "3.7.3"
  }
 },
 "nbformat": 4,
 "nbformat_minor": 2
}
